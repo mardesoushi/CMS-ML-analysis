{
 "cells": [
  {
   "cell_type": "code",
   "execution_count": null,
   "metadata": {},
   "outputs": [],
   "source": [
    "# !pip install -r requirements.txt"
   ]
  },
  {
   "cell_type": "markdown",
   "metadata": {},
   "source": [
    "## Download and list the root files (signal and background) from Open Data Portal"
   ]
  },
  {
   "cell_type": "code",
   "execution_count": 2,
   "metadata": {},
   "outputs": [
    {
     "name": "stdout",
     "output_type": "stream",
     "text": [
      "['root://eospublic.cern.ch//eos/opendata/cms/mc/RunIISummer20UL16NanoAODv9/QCD_Pt-15to7000_TuneCP5_Flat2018_13TeV_pythia8/NANOAODSIM/106X_mcRun2_asymptotic_v17-v1/130000/1C569D85-60AE-7D43-B42B-6D6FD1D66CC7.root'\n",
      " 'root://eospublic.cern.ch//eos/opendata/cms/mc/RunIISummer20UL16NanoAODv9/QCD_Pt-15to7000_TuneCP5_Flat2018_13TeV_pythia8/NANOAODSIM/106X_mcRun2_asymptotic_v17-v1/130000/2EDCC683-1B4B-614B-BEB7-D80BBC20AD8E.root'\n",
      " 'root://eospublic.cern.ch//eos/opendata/cms/mc/RunIISummer20UL16NanoAODv9/QCD_Pt-15to7000_TuneCP5_Flat2018_13TeV_pythia8/NANOAODSIM/106X_mcRun2_asymptotic_v17-v1/270000/19E8D842-3175-1449-AF6C-FD9C69D12724.root'\n",
      " 'root://eospublic.cern.ch//eos/opendata/cms/mc/RunIISummer20UL16NanoAODv9/QCD_Pt-15to7000_TuneCP5_Flat2018_13TeV_pythia8/NANOAODSIM/106X_mcRun2_asymptotic_v17-v1/270000/3957434B-7E09-3B4C-8329-FD44D82C7DB7.root'\n",
      " 'root://eospublic.cern.ch//eos/opendata/cms/mc/RunIISummer20UL16NanoAODv9/QCD_Pt-15to7000_TuneCP5_Flat2018_13TeV_pythia8/NANOAODSIM/106X_mcRun2_asymptotic_v17-v1/270000/397D1673-167A-CF46-9E79-D7069D9AC359.root'\n",
      " 'root://eospublic.cern.ch//eos/opendata/cms/mc/RunIISummer20UL16NanoAODv9/QCD_Pt-15to7000_TuneCP5_Flat2018_13TeV_pythia8/NANOAODSIM/106X_mcRun2_asymptotic_v17-v1/270000/52EE209E-3CB4-3D4F-9564-531DB7409165.root'\n",
      " 'root://eospublic.cern.ch//eos/opendata/cms/mc/RunIISummer20UL16NanoAODv9/QCD_Pt-15to7000_TuneCP5_Flat2018_13TeV_pythia8/NANOAODSIM/106X_mcRun2_asymptotic_v17-v1/270000/8A52F254-16F0-674E-9616-3006F7F39D81.root'\n",
      " 'root://eospublic.cern.ch//eos/opendata/cms/mc/RunIISummer20UL16NanoAODv9/QCD_Pt-15to7000_TuneCP5_Flat2018_13TeV_pythia8/NANOAODSIM/106X_mcRun2_asymptotic_v17-v1/270000/AECD4750-69A3-DB47-B573-A4500E55D882.root'\n",
      " 'root://eospublic.cern.ch//eos/opendata/cms/mc/RunIISummer20UL16NanoAODv9/QCD_Pt-15to7000_TuneCP5_Flat2018_13TeV_pythia8/NANOAODSIM/106X_mcRun2_asymptotic_v17-v1/270000/DDE8E8AB-4E56-704A-9D68-29CE8AE82FF3.root'\n",
      " 'root://eospublic.cern.ch//eos/opendata/cms/mc/RunIISummer20UL16NanoAODv9/QCD_Pt-15to7000_TuneCP5_Flat2018_13TeV_pythia8/NANOAODSIM/106X_mcRun2_asymptotic_v17-v1/280000/0E28C961-58A5-994B-B580-F09D129EB416.root'\n",
      " 'root://eospublic.cern.ch//eos/opendata/cms/mc/RunIISummer20UL16NanoAODv9/QCD_Pt-15to7000_TuneCP5_Flat2018_13TeV_pythia8/NANOAODSIM/106X_mcRun2_asymptotic_v17-v1/280000/0F04A6E6-1939-A94E-A5F4-4F89917EC014.root'\n",
      " 'root://eospublic.cern.ch//eos/opendata/cms/mc/RunIISummer20UL16NanoAODv9/QCD_Pt-15to7000_TuneCP5_Flat2018_13TeV_pythia8/NANOAODSIM/106X_mcRun2_asymptotic_v17-v1/280000/175A5DD9-13A2-144B-AE64-4AE7C27CADD3.root'\n",
      " 'root://eospublic.cern.ch//eos/opendata/cms/mc/RunIISummer20UL16NanoAODv9/QCD_Pt-15to7000_TuneCP5_Flat2018_13TeV_pythia8/NANOAODSIM/106X_mcRun2_asymptotic_v17-v1/280000/243023B4-EA5E-8F4B-9ED6-10A813A89A6F.root'\n",
      " 'root://eospublic.cern.ch//eos/opendata/cms/mc/RunIISummer20UL16NanoAODv9/QCD_Pt-15to7000_TuneCP5_Flat2018_13TeV_pythia8/NANOAODSIM/106X_mcRun2_asymptotic_v17-v1/280000/321D4D40-7868-6542-8F2F-10816EFC2973.root'\n",
      " 'root://eospublic.cern.ch//eos/opendata/cms/mc/RunIISummer20UL16NanoAODv9/QCD_Pt-15to7000_TuneCP5_Flat2018_13TeV_pythia8/NANOAODSIM/106X_mcRun2_asymptotic_v17-v1/280000/46DF71C3-2523-3B40-A688-976DE229A9C1.root'\n",
      " 'root://eospublic.cern.ch//eos/opendata/cms/mc/RunIISummer20UL16NanoAODv9/QCD_Pt-15to7000_TuneCP5_Flat2018_13TeV_pythia8/NANOAODSIM/106X_mcRun2_asymptotic_v17-v1/280000/5C25FB94-67C3-364B-9E90-BDA250D6ED93.root'\n",
      " 'root://eospublic.cern.ch//eos/opendata/cms/mc/RunIISummer20UL16NanoAODv9/QCD_Pt-15to7000_TuneCP5_Flat2018_13TeV_pythia8/NANOAODSIM/106X_mcRun2_asymptotic_v17-v1/280000/5FF8D866-2808-0E47-BE82-9536953DF53D.root'\n",
      " 'root://eospublic.cern.ch//eos/opendata/cms/mc/RunIISummer20UL16NanoAODv9/QCD_Pt-15to7000_TuneCP5_Flat2018_13TeV_pythia8/NANOAODSIM/106X_mcRun2_asymptotic_v17-v1/280000/68EAF4D1-6A01-D546-AFC0-DB6C38512576.root'\n",
      " 'root://eospublic.cern.ch//eos/opendata/cms/mc/RunIISummer20UL16NanoAODv9/QCD_Pt-15to7000_TuneCP5_Flat2018_13TeV_pythia8/NANOAODSIM/106X_mcRun2_asymptotic_v17-v1/280000/6EA41120-0013-0A48-AE9D-965B9B8291CF.root'\n",
      " 'root://eospublic.cern.ch//eos/opendata/cms/mc/RunIISummer20UL16NanoAODv9/QCD_Pt-15to7000_TuneCP5_Flat2018_13TeV_pythia8/NANOAODSIM/106X_mcRun2_asymptotic_v17-v1/280000/7610A6D1-B8E2-F54C-AE0F-D4406084077D.root'\n",
      " 'root://eospublic.cern.ch//eos/opendata/cms/mc/RunIISummer20UL16NanoAODv9/QCD_Pt-15to7000_TuneCP5_Flat2018_13TeV_pythia8/NANOAODSIM/106X_mcRun2_asymptotic_v17-v1/280000/7F142AC6-39F2-2F4F-9F97-C425A1C99A35.root'\n",
      " 'root://eospublic.cern.ch//eos/opendata/cms/mc/RunIISummer20UL16NanoAODv9/QCD_Pt-15to7000_TuneCP5_Flat2018_13TeV_pythia8/NANOAODSIM/106X_mcRun2_asymptotic_v17-v1/280000/85CB98E1-D675-984E-BA09-DD7C95483ADF.root'\n",
      " 'root://eospublic.cern.ch//eos/opendata/cms/mc/RunIISummer20UL16NanoAODv9/QCD_Pt-15to7000_TuneCP5_Flat2018_13TeV_pythia8/NANOAODSIM/106X_mcRun2_asymptotic_v17-v1/280000/9859C258-06DB-C443-99D0-A1849B59C5CD.root'\n",
      " 'root://eospublic.cern.ch//eos/opendata/cms/mc/RunIISummer20UL16NanoAODv9/QCD_Pt-15to7000_TuneCP5_Flat2018_13TeV_pythia8/NANOAODSIM/106X_mcRun2_asymptotic_v17-v1/280000/C3F117F4-5211-0241-A129-8E979D7F281C.root'\n",
      " 'root://eospublic.cern.ch//eos/opendata/cms/mc/RunIISummer20UL16NanoAODv9/QCD_Pt-15to7000_TuneCP5_Flat2018_13TeV_pythia8/NANOAODSIM/106X_mcRun2_asymptotic_v17-v1/280000/FCF7CA28-D3D5-6B4F-81D9-B12D55E0E4AD.root'\n",
      " 'root://eospublic.cern.ch//eos/opendata/cms/mc/RunIISummer20UL16NanoAODv9/QCD_Pt-15to7000_TuneCP5_Flat2018_13TeV_pythia8/NANOAODSIM/106X_mcRun2_asymptotic_v17-v1/70000/50C501A4-6495-484B-8C0C-195BB030B6E8.root'\n",
      " 'root://eospublic.cern.ch//eos/opendata/cms/mc/RunIISummer20UL16NanoAODv9/QCD_Pt-15to7000_TuneCP5_Flat2018_13TeV_pythia8/NANOAODSIM/106X_mcRun2_asymptotic_v17-v1/70000/FECACF35-921D-A147-9E03-B81EC03485C5.root']\n",
      "['root://eospublic.cern.ch//eos/opendata/cms/mc/RunIISummer20UL16NanoAODv9/BulkGravToWWToWhadWhad_narrow_M-2000_TuneCP5_13TeV-madgraph-pythia/NANOAODSIM/106X_mcRun2_asymptotic_v17-v2/130000/9AB2D56B-22D4-AF45-A7D2-936193FCD361.root'\n",
      " 'root://eospublic.cern.ch//eos/opendata/cms/mc/RunIISummer20UL16NanoAODv9/BulkGravToWWToWhadWhad_narrow_M-2000_TuneCP5_13TeV-madgraph-pythia/NANOAODSIM/106X_mcRun2_asymptotic_v17-v2/130000/FBE90691-38E8-FE4B-AB57-BC29D360ECDC.root'\n",
      " 'root://eospublic.cern.ch//eos/opendata/cms/mc/RunIISummer20UL16NanoAODv9/BulkGravToWWToWhadWhad_narrow_M-2000_TuneCP5_13TeV-madgraph-pythia/NANOAODSIM/106X_mcRun2_asymptotic_v17-v2/2510000/CC25B3DF-AEE4-DE45-9D37-BF5FD8CA6DE2.root'\n",
      " 'root://eospublic.cern.ch//eos/opendata/cms/mc/RunIISummer20UL16NanoAODv9/BulkGravToWWToWhadWhad_narrow_M-2000_TuneCP5_13TeV-madgraph-pythia/NANOAODSIM/106X_mcRun2_asymptotic_v17-v2/260000/4A95BAE1-F574-3B43-BC5A-11F681217F7E.root'\n",
      " 'root://eospublic.cern.ch//eos/opendata/cms/mc/RunIISummer20UL16NanoAODv9/BulkGravToWWToWhadWhad_narrow_M-2000_TuneCP5_13TeV-madgraph-pythia/NANOAODSIM/106X_mcRun2_asymptotic_v17-v2/260000/61560860-26B0-2C41-BA34-3BA7556592FC.root'\n",
      " 'root://eospublic.cern.ch//eos/opendata/cms/mc/RunIISummer20UL16NanoAODv9/BulkGravToWWToWhadWhad_narrow_M-2000_TuneCP5_13TeV-madgraph-pythia/NANOAODSIM/106X_mcRun2_asymptotic_v17-v2/260000/756B17AD-7C68-0D4F-AA6B-8B07544D8687.root'\n",
      " 'root://eospublic.cern.ch//eos/opendata/cms/mc/RunIISummer20UL16NanoAODv9/BulkGravToWWToWhadWhad_narrow_M-2000_TuneCP5_13TeV-madgraph-pythia/NANOAODSIM/106X_mcRun2_asymptotic_v17-v2/260000/BE6324C8-33EC-0649-9192-44B4B9D5B051.root'\n",
      " 'root://eospublic.cern.ch//eos/opendata/cms/mc/RunIISummer20UL16NanoAODv9/BulkGravToWWToWhadWhad_narrow_M-2000_TuneCP5_13TeV-madgraph-pythia/NANOAODSIM/106X_mcRun2_asymptotic_v17-v2/260000/D54B7722-4D6C-0A4B-8EB5-61788AAE58B2.root'\n",
      " 'root://eospublic.cern.ch//eos/opendata/cms/mc/RunIISummer20UL16NanoAODv9/BulkGravToWWToWhadWhad_narrow_M-2000_TuneCP5_13TeV-madgraph-pythia/NANOAODSIM/106X_mcRun2_asymptotic_v17-v2/260000/D6A350B7-6266-CA40-B82E-0665F98F1BC4.root'\n",
      " 'root://eospublic.cern.ch//eos/opendata/cms/mc/RunIISummer20UL16NanoAODv9/BulkGravToWWToWhadWhad_narrow_M-2000_TuneCP5_13TeV-madgraph-pythia/NANOAODSIM/106X_mcRun2_asymptotic_v17-v2/260000/E0636F7E-88E0-4048-8D70-C62BB9C471C9.root'\n",
      " 'root://eospublic.cern.ch//eos/opendata/cms/mc/RunIISummer20UL16NanoAODv9/BulkGravToWWToWhadWhad_narrow_M-2000_TuneCP5_13TeV-madgraph-pythia/NANOAODSIM/106X_mcRun2_asymptotic_v17-v2/260000/FA205E94-4F2A-734B-8D1D-6CC591343E94.root'\n",
      " 'root://eospublic.cern.ch//eos/opendata/cms/mc/RunIISummer20UL16NanoAODv9/BulkGravToWWToWhadWhad_narrow_M-2000_TuneCP5_13TeV-madgraph-pythia/NANOAODSIM/106X_mcRun2_asymptotic_v17-v2/260000/FBDD80E2-FF50-5440-94C3-E390FA7512A6.root'\n",
      " 'root://eospublic.cern.ch//eos/opendata/cms/mc/RunIISummer20UL16NanoAODv9/BulkGravToWWToWhadWhad_narrow_M-2000_TuneCP5_13TeV-madgraph-pythia/NANOAODSIM/106X_mcRun2_asymptotic_v17-v2/270000/0DB124C6-ECD1-D445-8716-26A00E9C42DD.root'\n",
      " 'root://eospublic.cern.ch//eos/opendata/cms/mc/RunIISummer20UL16NanoAODv9/BulkGravToWWToWhadWhad_narrow_M-2000_TuneCP5_13TeV-madgraph-pythia/NANOAODSIM/106X_mcRun2_asymptotic_v17-v2/270000/32B3D9D9-CC49-8544-AF7D-623D08210392.root'\n",
      " 'root://eospublic.cern.ch//eos/opendata/cms/mc/RunIISummer20UL16NanoAODv9/BulkGravToWWToWhadWhad_narrow_M-2000_TuneCP5_13TeV-madgraph-pythia/NANOAODSIM/106X_mcRun2_asymptotic_v17-v2/270000/3F5F72D7-17D7-AB44-A161-1E223F875B4B.root'\n",
      " 'root://eospublic.cern.ch//eos/opendata/cms/mc/RunIISummer20UL16NanoAODv9/BulkGravToWWToWhadWhad_narrow_M-2000_TuneCP5_13TeV-madgraph-pythia/NANOAODSIM/106X_mcRun2_asymptotic_v17-v2/270000/6181F814-946B-5B43-BAA5-AC17A57ADC43.root'\n",
      " 'root://eospublic.cern.ch//eos/opendata/cms/mc/RunIISummer20UL16NanoAODv9/BulkGravToWWToWhadWhad_narrow_M-2000_TuneCP5_13TeV-madgraph-pythia/NANOAODSIM/106X_mcRun2_asymptotic_v17-v2/270000/90F57721-9140-724D-914D-B9A9D836A880.root'\n",
      " 'root://eospublic.cern.ch//eos/opendata/cms/mc/RunIISummer20UL16NanoAODv9/BulkGravToWWToWhadWhad_narrow_M-2000_TuneCP5_13TeV-madgraph-pythia/NANOAODSIM/106X_mcRun2_asymptotic_v17-v2/270000/D16206A6-8407-A749-9717-4ADF68117615.root']\n"
     ]
    }
   ],
   "source": [
    "import subprocess \n",
    "import numpy as np\n",
    "\n",
    "open_data_file_id = \"63168\"\n",
    "command = [\"cernopendata-client\", \"get-file-locations\", \"--recid\", open_data_file_id, \"--protocol\", \"xrootd\"]\n",
    "result = subprocess.run(command, capture_output=True, text=True)\n",
    "filenames = result.stdout.splitlines()\n",
    "filenames_bkg = np.array(filenames)\n",
    "\n",
    "\n",
    "open_data_file_id = \"33703\"\n",
    "command = [\"cernopendata-client\", \"get-file-locations\", \"--recid\", open_data_file_id, \"--protocol\", \"xrootd\"]\n",
    "result = subprocess.run(command, capture_output=True, text=True)\n",
    "filenames = result.stdout.splitlines()\n",
    "filenames_sig = np.array(filenames)\n",
    "\n",
    "# Print the NumPy array\n",
    "print(filenames_bkg)\n",
    "print(filenames_sig)"
   ]
  },
  {
   "cell_type": "code",
   "execution_count": 1,
   "metadata": {},
   "outputs": [
    {
     "ename": "NameError",
     "evalue": "name 'filenames_sig' is not defined",
     "output_type": "error",
     "traceback": [
      "\u001b[0;31m---------------------------------------------------------------------------\u001b[0m",
      "\u001b[0;31mNameError\u001b[0m                                 Traceback (most recent call last)",
      "Cell \u001b[0;32mIn[1], line 20\u001b[0m\n\u001b[1;32m     17\u001b[0m \u001b[38;5;28;01mfor\u001b[39;00m obj, var \u001b[38;5;129;01min\u001b[39;00m branch_dict\u001b[38;5;241m.\u001b[39mitems(): \n\u001b[1;32m     18\u001b[0m     branch_names \u001b[38;5;241m+\u001b[39m\u001b[38;5;241m=\u001b[39m [obj \u001b[38;5;241m+\u001b[39m \u001b[38;5;124m\"\u001b[39m\u001b[38;5;124m_\u001b[39m\u001b[38;5;124m\"\u001b[39m \u001b[38;5;241m+\u001b[39m v \u001b[38;5;28;01mfor\u001b[39;00m v \u001b[38;5;129;01min\u001b[39;00m var]\n\u001b[0;32m---> 20\u001b[0m infiles_sig \u001b[38;5;241m=\u001b[39m \u001b[43mfilenames_sig\u001b[49m[:] \u001b[38;5;66;03m# Lets use all the signal files\u001b[39;00m\n\u001b[1;32m     22\u001b[0m data_sig \u001b[38;5;241m=\u001b[39m uproot\u001b[38;5;241m.\u001b[39mconcatenate({fname:\u001b[38;5;124m\"\u001b[39m\u001b[38;5;124mEvents\u001b[39m\u001b[38;5;124m\"\u001b[39m \u001b[38;5;28;01mfor\u001b[39;00m fname \u001b[38;5;129;01min\u001b[39;00m infiles_sig}, \n\u001b[1;32m     23\u001b[0m                               branch_names, \n\u001b[1;32m     24\u001b[0m                               how \u001b[38;5;241m=\u001b[39m \u001b[38;5;124m\"\u001b[39m\u001b[38;5;124mzip\u001b[39m\u001b[38;5;124m\"\u001b[39m,\n\u001b[1;32m     25\u001b[0m                               library \u001b[38;5;241m=\u001b[39m \u001b[38;5;124m\"\u001b[39m\u001b[38;5;124mak\u001b[39m\u001b[38;5;124m\"\u001b[39m)\n\u001b[1;32m     27\u001b[0m \u001b[38;5;66;03m# infiles_bkg = [\"root://eospublic.cern.ch//eos/opendata/cms/mc/RunIISummer20UL16NanoAODv9/QCD_Pt-15to7000_TuneCP5_Flat2018_13TeV_pythia8/NANOAODSIM/106X_mcRun2_asymptotic_v17-v1/130000/2EDCC683-1B4B-614B-BEB7-D80BBC20AD8E.root\",\"root://eospublic.cern.ch//eos/opendata/cms/mc/RunIISummer20UL16NanoAODv9/QCD_Pt-15to7000_TuneCP5_Flat2018_13TeV_pythia8/NANOAODSIM/106X_mcRun2_asymptotic_v17-v1/270000/19E8D842-3175-1449-AF6C-FD9C69D12724.root\",\"root://eospublic.cern.ch//eos/opendata/cms/mc/RunIISummer20UL16NanoAODv9/QCD_Pt-15to7000_TuneCP5_Flat2018_13TeV_pythia8/NANOAODSIM/106X_mcRun2_asymptotic_v17-v1/270000/3957434B-7E09-3B4C-8329-FD44D82C7DB7.root\",\"root://eospublic.cern.ch//eos/opendata/cms/mc/RunIISummer20UL16NanoAODv9/QCD_Pt-15to7000_TuneCP5_Flat2018_13TeV_pythia8/NANOAODSIM/106X_mcRun2_asymptotic_v17-v1/270000/397D1673-167A-CF46-9E79-D7069D9AC359.root\"]\u001b[39;00m\n",
      "\u001b[0;31mNameError\u001b[0m: name 'filenames_sig' is not defined"
     ]
    }
   ],
   "source": [
    "import uproot\n",
    "import matplotlib.pylab as plt\n",
    "import awkward as ak\n",
    "import numpy as np\n",
    "from glob import glob\n",
    "\n",
    "treename = \"Events\"\n",
    "branch_dict = {\n",
    "                \"Muon\": [\"pt\", \"eta\", \"phi\"],\n",
    "                \"Electron\": [\"pt\", \"eta\", \"phi\"],\n",
    "                \"FatJet\": [\"pt\", \"eta\", \"phi\"],\n",
    "                # \"MET\": [\"pt\", \"phi\"]\n",
    "            }\n",
    "\n",
    "# make list of branches to read from the dictionary above\n",
    "branch_names = []\n",
    "for obj, var in branch_dict.items(): \n",
    "    branch_names += [obj + \"_\" + v for v in var]\n",
    "\n",
    "infiles_sig = filenames_sig[:] # Lets use all the signal files\n",
    "\n",
    "data_sig = uproot.concatenate({fname:\"Events\" for fname in infiles_sig}, \n",
    "                              branch_names, \n",
    "                              how = \"zip\",\n",
    "                              library = \"ak\")\n",
    "\n",
    "# infiles_bkg = [\"root://eospublic.cern.ch//eos/opendata/cms/mc/RunIISummer20UL16NanoAODv9/QCD_Pt-15to7000_TuneCP5_Flat2018_13TeV_pythia8/NANOAODSIM/106X_mcRun2_asymptotic_v17-v1/130000/2EDCC683-1B4B-614B-BEB7-D80BBC20AD8E.root\",\"root://eospublic.cern.ch//eos/opendata/cms/mc/RunIISummer20UL16NanoAODv9/QCD_Pt-15to7000_TuneCP5_Flat2018_13TeV_pythia8/NANOAODSIM/106X_mcRun2_asymptotic_v17-v1/270000/19E8D842-3175-1449-AF6C-FD9C69D12724.root\",\"root://eospublic.cern.ch//eos/opendata/cms/mc/RunIISummer20UL16NanoAODv9/QCD_Pt-15to7000_TuneCP5_Flat2018_13TeV_pythia8/NANOAODSIM/106X_mcRun2_asymptotic_v17-v1/270000/3957434B-7E09-3B4C-8329-FD44D82C7DB7.root\",\"root://eospublic.cern.ch//eos/opendata/cms/mc/RunIISummer20UL16NanoAODv9/QCD_Pt-15to7000_TuneCP5_Flat2018_13TeV_pythia8/NANOAODSIM/106X_mcRun2_asymptotic_v17-v1/270000/397D1673-167A-CF46-9E79-D7069D9AC359.root\"]\n",
    "infiles_bkg = filenames_bkg[8:12] #Let's use only 4 of the background files, one of the first files seems to not be accessible with xrootd so I take entry 4-8\n",
    "data_bkg = uproot.concatenate({fname:\"Events\" for fname in infiles_bkg}, \n",
    "                              branch_names, \n",
    "                              how = \"zip\",\n",
    "                              library = \"ak\")\n",
    "\n",
    "\n",
    "# # Here is an example of how you can open a single file rith awkward and regex for the branch expression :\n",
    "\n",
    "# file_bkg = uproot.open(infiles_bkg[0])\n",
    "# data_bkg = file_bkg[\"Events\"].arrays(\n",
    "#     filter_name = \"/(Muon|Electron|FatJet|MET)_(pt|eta|phi|sumEt)/\", \n",
    "#     how = \"zip\"\n",
    "# )"
   ]
  }
 ],
 "metadata": {
  "kernelspec": {
   "display_name": ".cmsml",
   "language": "python",
   "name": "python3"
  },
  "language_info": {
   "codemirror_mode": {
    "name": "ipython",
    "version": 3
   },
   "file_extension": ".py",
   "mimetype": "text/x-python",
   "name": "python",
   "nbconvert_exporter": "python",
   "pygments_lexer": "ipython3",
   "version": "3.10.14"
  }
 },
 "nbformat": 4,
 "nbformat_minor": 2
}
